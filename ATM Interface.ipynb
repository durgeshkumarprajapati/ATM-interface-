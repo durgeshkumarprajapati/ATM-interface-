{
 "cells": [
  {
   "cell_type": "code",
   "execution_count": null,
   "id": "e529f9df",
   "metadata": {},
   "outputs": [],
   "source": [
    "class Atm:\n",
    "    __balance=0 #private instance variable\n",
    "    __pin=\"\"   #private instance variable\n",
    "    \n",
    "\n",
    "    def createpin(self):\n",
    "        self.__pin=int(input(\"Enter pin:\"))\n",
    "        print(self.__pin)\n",
    "    def deposite(self):\n",
    "        money=int(input(\"Enter amount:\"))\n",
    "        self.__balance+=money\n",
    "        print(self.__balance)\n",
    "    def withdraw(self):\n",
    "        vpin=int(input(\"Enter pin:\"))\n",
    "        if vpin==self.__pin:\n",
    "            amount=int(input(\"Enter amount:\"))\n",
    "            if amount==self.__balance or amount<self.__balance:\n",
    "                print(\"withdraw request successful:\")\n",
    "                self.__balance-=amount\n",
    "                print(\"current balance is:\",self.__balance)\n",
    "            else:\n",
    "                print(\"Insufficiant amount:\")\n",
    "        else:\n",
    "            print(\"incorrect pin:\")\n",
    "    def check_balance(self):\n",
    "        check_pin=int(input(\"Enter pin:\"))\n",
    "        if check_pin==self.__pin:\n",
    "            print(\"current balance:\",self.__balance)\n",
    "        else:\n",
    "            \n",
    "            print(\"incorrect pin:\")\n",
    "sbi=Atm()\n",
    "while True:\n",
    "    ch=input(\"Do you want perform operations(Y/N):\")\n",
    "    \n",
    "    if ch==\"Y\" or ch==\"y\":\n",
    "        print('1. for create pin \\n 2.for deposite money \\n 3 for withdraw money \\n 4 for check balance')\n",
    "        choice=int(input(\"Enter choice:\"))\n",
    "        if choice==1:\n",
    "            sbi.createpin()\n",
    "        elif choice==2:\n",
    "\n",
    "            sbi.deposite()\n",
    "        elif choice==3:\n",
    "            sbi.withdraw()\n",
    "        elif choice==4:\n",
    "            sbi.check_balance()\n",
    "    else:\n",
    "        break\n",
    "        "
   ]
  }
 ],
 "metadata": {
  "kernelspec": {
   "display_name": "Python 3 (ipykernel)",
   "language": "python",
   "name": "python3"
  },
  "language_info": {
   "codemirror_mode": {
    "name": "ipython",
    "version": 3
   },
   "file_extension": ".py",
   "mimetype": "text/x-python",
   "name": "python",
   "nbconvert_exporter": "python",
   "pygments_lexer": "ipython3",
   "version": "3.11.0"
  }
 },
 "nbformat": 4,
 "nbformat_minor": 5
}
